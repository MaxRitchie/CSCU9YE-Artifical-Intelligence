{
 "cells": [
  {
   "cell_type": "markdown",
   "metadata": {
    "colab_type": "text",
    "id": "-HS7g-4Tol3E"
   },
   "source": [
    "University of Stirling<br>\n",
    "Computing Science and Mathematics\n",
    "#### CSCU9YE - Artificial Intelligence   \n",
    "## Assignment: Organising a Colour Palette\n",
    "Group : 25 Student ID : 2636161 , 2636157 , 2634926 \n",
    "# Clustering Based Algorithm"
   ]
  },
  {
   "cell_type": "markdown",
   "metadata": {
    "colab_type": "text",
    "id": "-HS7g-4Tol3E"
   },
   "source": [
    "## Chosen Clustering Algorithm\n",
    "\n",
    "The algorithm that was used was the kmeans algorithm, the reason that we decided to use this algorithm instead of hierarchical clustering is it resulted in the lowest Euclid distance when using the evaluation function. We found it was better to use because the Kmeans data sets that  are being used are a fixed size, while hieratical is better for data sets that can vary in size. Kmeans is better at identifying outliers which would result in the colour palette being more organized and it also scales better for large data sets than hierarchical, meaning that the results would be more accurate. It also takes less time for k-means to complete the calculations.\n"
   ]
  },
  {
   "cell_type": "markdown",
   "metadata": {
    "colab_type": "text",
    "id": "-HS7g-4Tol3E"
   },
   "source": [
    "## Amount of clusters used for each instance size\n",
    "The number of clusters K that was used for instance size 100 was 6 and for instance size 500 we used 15 we used these values for both our Kmeans Clustering an Hierarchical Clustering testing. We found that these were good numbers as decreasing the number of clusters below these values will start to increase the Euclid distance of the colours in the palette making the colour pallete look worse and return a high result in the evaluation, we found that when we increase the number of cluster  it will continue to give better evaluation results and improve the look of our colour pallete as having more clusters allows for more colours to be grouped correctly. We found that after increasing the number of clusters by to much it starts to have a negative effect of the evaluation results as it starts to increase the distance between the colours making the colour pallete look worse and increasing the evaluation score.\n",
    "\n"
   ]
  },
  {
   "cell_type": "markdown",
   "metadata": {},
   "source": [
    "## Experiments conducted\n",
    "\n",
    "Implemented both Kmeans clustering and hierarchical then compared how each of them performed using the evaluate function while keeping the number of clusters consistent for both and found that using Kmeans was the best as it resulted in the lowest Euclid distance for both instance 100 and 500.\n",
    "\n",
    "Experimented with increasing and decreasing the number of clusters for the two algorithms and found that as the number of clusters used for both 100 and 500 instances increases, the Euclid distance from the evaluate function decreases meaning that the colour palette accuracy is improved. Doing this works up to a certain point where increasing the number of clusters will start to increase the Euclid distance. \n",
    "\n",
    "When testing hierarchical clustering we experimented with the different linkage methods complete, ward, average and single and found that for instance 100 ward was the best option and for instance 500 we found that complete was the best option as they had the largest effect on reducing the Euclid distance.\n",
    "\n",
    "\n"
   ]
  },
  {
   "cell_type": "code",
   "execution_count": 2,
   "metadata": {},
   "outputs": [
    {
     "name": "stdout",
     "output_type": "stream",
     "text": [
      "Results for Kmeans Clustering\n",
      "\n",
      "Best solution colour palette for instance 100 Kmeans\n"
     ]
    },
    {
     "data": {
      "image/png": "[encoded data removed]",
      "text/plain": [
       "<Figure size 720x432 with 1 Axes>"
      ]
     },
     "metadata": {
      "needs_background": "light"
     },
     "output_type": "display_data"
    },
    {
     "name": "stdout",
     "output_type": "stream",
     "text": [
      "Evaluation 35.5864950668804\n",
      "\n",
      "Best solution colour palette for instance 500 Kmeans\n"
     ]
    },
    {
     "data": {
      "image/png": "[encoded data removed]",
      "text/plain": [
       "<Figure size 720x432 with 1 Axes>"
      ]
     },
     "metadata": {
      "needs_background": "light"
     },
     "output_type": "display_data"
    },
    {
     "name": "stdout",
     "output_type": "stream",
     "text": [
      "Evaluation 134.77106622373688\n",
      "\n",
      "Results for Hierarchical Clustering\n",
      "\n",
      "Best solution colour palette for instance 100 hierarchical\n"
     ]
    },
    {
     "data": {
      "image/png": "[encoded data removed]",
      "text/plain": [
       "<Figure size 720x432 with 1 Axes>"
      ]
     },
     "metadata": {
      "needs_background": "light"
     },
     "output_type": "display_data"
    },
    {
     "name": "stdout",
     "output_type": "stream",
     "text": [
      "Evaluation 40.686918868734615\n",
      "\n",
      "Best solution colour palette for instance 500 hierarchical\n"
     ]
    },
    {
     "data": {
      "image/png": "[encoded data removed]",
      "text/plain": [
       "<Figure size 720x432 with 1 Axes>"
      ]
     },
     "metadata": {
      "needs_background": "light"
     },
     "output_type": "display_data"
    },
    {
     "name": "stdout",
     "output_type": "stream",
     "text": [
      "Evaluation 140.64108022910077\n"
     ]
    }
   ],
   "source": [
    "from sklearn.cluster import KMeans\n",
    "from sklearn import preprocessing\n",
    "import pandas as pd \n",
    "import numpy as np\n",
    "import matplotlib.pyplot as plt\n",
    "import scipy.cluster.hierarchy as shc     # Used to visualise dendograms\n",
    "from sklearn.cluster import AgglomerativeClustering \n",
    "\n",
    "# Read in the color data file \n",
    "# Input: string with file name\n",
    "# Oputput: the number of colours (integer), and a list numpy arrays with all the colours\n",
    "def read_data(fname):\n",
    "    cols = np.loadtxt(fname, skiprows = 4) # The first 4 lines have text information, and are ignored     \n",
    "    ncols = len(cols)     # Total number of colours and list of colours\n",
    "    return ncols,cols\n",
    "\n",
    "\n",
    "# Dsiplay the colors as a strip of color bars\n",
    "# Input: list of colors, order of colors, and height/ratio\n",
    "def plot_colors(col_list, col_order, ratio = 10): \n",
    "    assert len(col_list) == len(col_order)\n",
    "    img = np.zeros((ratio, len(col_list), 3))\n",
    "    for i in range(0, len(col_list)):\n",
    "        img[:, i, :] = col_list[col_order[i]]\n",
    "    fig, axes = plt.subplots(1, figsize=(10,6)) # figsize=(width,height) handles window dimensions\n",
    "    axes.imshow(img, interpolation='nearest')\n",
    "    axes.axis('off')\n",
    "    plt.title(\"Colour Palette\")\n",
    "    plt.show()\n",
    "\n",
    "\n",
    "def evaluate(cols, ordc):     \n",
    "    adjacentColPairs = [[cols[ordc[i]],cols[ordc[i-1]]] for i in range(1,len(ordc))]\n",
    "    return sum([euclid(i[1], i[0]) for i in adjacentColPairs])\n",
    "\n",
    "# This is an auxiliary function. It calculate the Euclidean distance between two individual colours\n",
    "# Input: v and u as to be numpy arrays, vectors of real numbers with the RGB coordinates.\n",
    "def euclid(v, u):\n",
    "    return np.linalg.norm(v - u)\n",
    "\n",
    "## function for k means cluster takes in the name of the file used and the amount of clusters that are used\n",
    "def kMeansClustering(txtFile , numberOfClusters):\n",
    "    ncolors, colors = read_data(txtFile)\n",
    "    data = pd.DataFrame({'Red': colors[:, 0], 'Green': colors[:, 1], 'Blue': colors[:, 2]}) # chage the data set used from numpy to pandas data set so we have access to the functions provided by pandas\n",
    "    order = list(range(ncolors)) # create an array with the size of the number of colours used      \n",
    "    data_scaled = preprocessing.scale(data) # process the data so that it can be used for clustering \n",
    "    data_scaled = pd.DataFrame(data_scaled)  #  change the data set into a data frame so it can be used for clustering\n",
    "    kmeans = KMeans(n_clusters = numberOfClusters) # creates the model with the number of clusters that were specifed by the user\n",
    "    clusters = kmeans.fit_predict(data_scaled) # fit the created model that is used for scaled data\n",
    "    data['Cluster'] = clusters # add a new colum for the clusters \n",
    "    data['ColorID'] = order # add a new colum for the colour id\n",
    "    data = data.sort_values(by=['Cluster']) # organise the data set by the value of the clusters\n",
    "    cluster_order = data[['ColorID']].to_numpy()# the cluster_order is then converted back into a numpy file    \n",
    "    return colors,cluster_order\n",
    "\n",
    "#Function for the Hierarchical clustering takes in the parameters for the text file and number of clusters\n",
    "def hierarchicalClustering(txtFile , numberOfClusters):\n",
    "    ncolors, colors = read_data(txtFile)\n",
    "    data = pd.DataFrame({'Red': colors[:, 0], 'Green': colors[:, 1], 'Blue': colors[:, 2]}) # chage the data set used from numpy to pandas data set so we have access to the functions provided by pandas\n",
    "    order = list(range(ncolors)) # create an array with the size of the number of colours used        \n",
    "    data_scaled = preprocessing.scale(data)  \n",
    "    data_scaled = pd.DataFrame(data_scaled)     \n",
    "    ac = AgglomerativeClustering(n_clusters=numberOfClusters, linkage='complete')\n",
    "    agg_clusters = ac.fit_predict(data_scaled)\n",
    "    data['Agg_Cluster'] = agg_clusters # each element in the data set is assignment a agg cluster\n",
    "    data['ColorID'] = order # each element is assigned an id\n",
    "    data = data.sort_values(by=['Agg_Cluster']) # the data set is ordered by the cluster that was assignment to them\n",
    "    cluster_order = data[['ColorID']].to_numpy() # the cluster_order is then converted back into a numpy file\n",
    "    return colors,cluster_order\n",
    "\n",
    "\n",
    "\n",
    "#output the results for KMeans clustering instance size 100\n",
    "colors, cl_best100 = kMeansClustering(\"col100.txt\",6)\n",
    "cl_best100Eval = evaluate(colors, cl_best100)\n",
    "print(\"Results for Kmeans Clustering\")\n",
    "print(\"\\nBest solution colour palette for instance 100 Kmeans\")\n",
    "plot_colors(colors, cl_best100, 20)\n",
    "print(\"Evaluation\", cl_best100Eval)\n",
    "\n",
    "\n",
    "#output the results for KMeans clustering instance size 500\n",
    "colors, cl_best500 = kMeansClustering(\"col500.txt\",15)\n",
    "cl_best500Eval = evaluate(colors, cl_best500)\n",
    "print(\"\\nBest solution colour palette for instance 500 Kmeans\")\n",
    "plot_colors(colors, cl_best500, 80)\n",
    "print(\"Evaluation\", cl_best500Eval)\n",
    "\n",
    "#output the results for hierarachical clustering instance size 100\n",
    "colors, cl_best100 = hierarchicalClustering(\"col100.txt\",6)\n",
    "hierar_best100Eval = evaluate(colors, cl_best100)\n",
    "print(\"\\nResults for Hierarchical Clustering\")\n",
    "print(\"\\nBest solution colour palette for instance 100 hierarchical\")\n",
    "plot_colors(colors, cl_best100, 20)\n",
    "print(\"Evaluation\", hierar_best100Eval)\n",
    "\n",
    "#output the results for hierarachical clustering instance size 500\n",
    "colors, cl_best500 = hierarchicalClustering(\"col500.txt\",15)\n",
    "hierar_best500Eval = evaluate(colors, cl_best500)\n",
    "print(\"\\nBest solution colour palette for instance 500 hierarchical\")\n",
    "plot_colors(colors, cl_best500, 80)\n",
    "print(\"Evaluation\", hierar_best500Eval)\n",
    "\n"
   ]
  },
  {
   "cell_type": "code",
   "execution_count": null,
   "metadata": {},
   "outputs": [],
   "source": []
  }
 ],
 "metadata": {
  "colab": {
   "name": "courseWork_startup_kit.ipynb",
   "provenance": []
  },
  "kernelspec": {
   "display_name": "Python 3",
   "language": "python",
   "name": "python3"
  },
  "language_info": {
   "codemirror_mode": {
    "name": "ipython",
    "version": 3
   },
   "file_extension": ".py",
   "mimetype": "text/x-python",
   "name": "python",
   "nbconvert_exporter": "python",
   "pygments_lexer": "ipython3",
   "version": "3.8.3"
  }
 },
 "nbformat": 4,
 "nbformat_minor": 4
}
